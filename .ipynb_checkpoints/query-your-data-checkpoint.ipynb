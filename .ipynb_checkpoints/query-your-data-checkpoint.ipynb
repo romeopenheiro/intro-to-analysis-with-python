{
 "cells": [
  {
   "cell_type": "code",
   "execution_count": 3,
   "id": "0cfe2790-a080-4711-be38-a77c41e459ef",
   "metadata": {},
   "outputs": [
    {
     "data": {
      "text/html": [
       "<div>\n",
       "<style scoped>\n",
       "    .dataframe tbody tr th:only-of-type {\n",
       "        vertical-align: middle;\n",
       "    }\n",
       "\n",
       "    .dataframe tbody tr th {\n",
       "        vertical-align: top;\n",
       "    }\n",
       "\n",
       "    .dataframe thead th {\n",
       "        text-align: right;\n",
       "    }\n",
       "</style>\n",
       "<table border=\"1\" class=\"dataframe\">\n",
       "  <thead>\n",
       "    <tr style=\"text-align: right;\">\n",
       "      <th></th>\n",
       "      <th>total_bill</th>\n",
       "      <th>tip</th>\n",
       "      <th>day</th>\n",
       "      <th>time</th>\n",
       "      <th>size</th>\n",
       "    </tr>\n",
       "  </thead>\n",
       "  <tbody>\n",
       "    <tr>\n",
       "      <th>0</th>\n",
       "      <td>16.99</td>\n",
       "      <td>0.71</td>\n",
       "      <td>Sun</td>\n",
       "      <td>Dinner</td>\n",
       "      <td>2</td>\n",
       "    </tr>\n",
       "    <tr>\n",
       "      <th>1</th>\n",
       "      <td>10.34</td>\n",
       "      <td>1.16</td>\n",
       "      <td>Sun</td>\n",
       "      <td>Dinner</td>\n",
       "      <td>3</td>\n",
       "    </tr>\n",
       "    <tr>\n",
       "      <th>2</th>\n",
       "      <td>21.01</td>\n",
       "      <td>2.45</td>\n",
       "      <td>Sun</td>\n",
       "      <td>Dinner</td>\n",
       "      <td>3</td>\n",
       "    </tr>\n",
       "    <tr>\n",
       "      <th>3</th>\n",
       "      <td>23.68</td>\n",
       "      <td>2.32</td>\n",
       "      <td>Sun</td>\n",
       "      <td>Dinner</td>\n",
       "      <td>2</td>\n",
       "    </tr>\n",
       "    <tr>\n",
       "      <th>4</th>\n",
       "      <td>24.59</td>\n",
       "      <td>2.53</td>\n",
       "      <td>Sun</td>\n",
       "      <td>Dinner</td>\n",
       "      <td>4</td>\n",
       "    </tr>\n",
       "    <tr>\n",
       "      <th>...</th>\n",
       "      <td>...</td>\n",
       "      <td>...</td>\n",
       "      <td>...</td>\n",
       "      <td>...</td>\n",
       "      <td>...</td>\n",
       "    </tr>\n",
       "    <tr>\n",
       "      <th>239</th>\n",
       "      <td>29.03</td>\n",
       "      <td>4.14</td>\n",
       "      <td>Sat</td>\n",
       "      <td>Dinner</td>\n",
       "      <td>3</td>\n",
       "    </tr>\n",
       "    <tr>\n",
       "      <th>240</th>\n",
       "      <td>27.18</td>\n",
       "      <td>1.40</td>\n",
       "      <td>Sat</td>\n",
       "      <td>Dinner</td>\n",
       "      <td>2</td>\n",
       "    </tr>\n",
       "    <tr>\n",
       "      <th>241</th>\n",
       "      <td>22.67</td>\n",
       "      <td>1.40</td>\n",
       "      <td>Sat</td>\n",
       "      <td>Dinner</td>\n",
       "      <td>2</td>\n",
       "    </tr>\n",
       "    <tr>\n",
       "      <th>242</th>\n",
       "      <td>17.82</td>\n",
       "      <td>1.22</td>\n",
       "      <td>Sat</td>\n",
       "      <td>Dinner</td>\n",
       "      <td>2</td>\n",
       "    </tr>\n",
       "    <tr>\n",
       "      <th>243</th>\n",
       "      <td>18.78</td>\n",
       "      <td>2.10</td>\n",
       "      <td>Thur</td>\n",
       "      <td>Dinner</td>\n",
       "      <td>2</td>\n",
       "    </tr>\n",
       "  </tbody>\n",
       "</table>\n",
       "<p>244 rows × 5 columns</p>\n",
       "</div>"
      ],
      "text/plain": [
       "     total_bill   tip   day    time  size\n",
       "0         16.99  0.71   Sun  Dinner     2\n",
       "1         10.34  1.16   Sun  Dinner     3\n",
       "2         21.01  2.45   Sun  Dinner     3\n",
       "3         23.68  2.32   Sun  Dinner     2\n",
       "4         24.59  2.53   Sun  Dinner     4\n",
       "..          ...   ...   ...     ...   ...\n",
       "239       29.03  4.14   Sat  Dinner     3\n",
       "240       27.18  1.40   Sat  Dinner     2\n",
       "241       22.67  1.40   Sat  Dinner     2\n",
       "242       17.82  1.22   Sat  Dinner     2\n",
       "243       18.78  2.10  Thur  Dinner     2\n",
       "\n",
       "[244 rows x 5 columns]"
      ]
     },
     "execution_count": 3,
     "metadata": {},
     "output_type": "execute_result"
    }
   ],
   "source": [
    "import pandas as pd\n",
    "\n",
    "tips = pd.read_csv(\"https://milliams.com/courses/data_analysis_python/tips.csv\")\n",
    "tips"
   ]
  },
  {
   "cell_type": "code",
   "execution_count": 4,
   "id": "1439bf10-88c6-4708-a5f2-c2304b97fcea",
   "metadata": {},
   "outputs": [
    {
     "data": {
      "text/plain": [
       "0      16.99\n",
       "1      10.34\n",
       "2      21.01\n",
       "3      23.68\n",
       "4      24.59\n",
       "       ...  \n",
       "239    29.03\n",
       "240    27.18\n",
       "241    22.67\n",
       "242    17.82\n",
       "243    18.78\n",
       "Name: total_bill, Length: 244, dtype: float64"
      ]
     },
     "execution_count": 4,
     "metadata": {},
     "output_type": "execute_result"
    }
   ],
   "source": [
    "tips[\"total_bill\"]"
   ]
  },
  {
   "cell_type": "code",
   "execution_count": 6,
   "id": "02e78750-2b6b-45f0-a325-0b1b971ba5b5",
   "metadata": {},
   "outputs": [
    {
     "data": {
      "text/html": [
       "<div>\n",
       "<style scoped>\n",
       "    .dataframe tbody tr th:only-of-type {\n",
       "        vertical-align: middle;\n",
       "    }\n",
       "\n",
       "    .dataframe tbody tr th {\n",
       "        vertical-align: top;\n",
       "    }\n",
       "\n",
       "    .dataframe thead th {\n",
       "        text-align: right;\n",
       "    }\n",
       "</style>\n",
       "<table border=\"1\" class=\"dataframe\">\n",
       "  <thead>\n",
       "    <tr style=\"text-align: right;\">\n",
       "      <th></th>\n",
       "      <th>total_bill</th>\n",
       "      <th>tip</th>\n",
       "    </tr>\n",
       "  </thead>\n",
       "  <tbody>\n",
       "    <tr>\n",
       "      <th>0</th>\n",
       "      <td>16.99</td>\n",
       "      <td>0.71</td>\n",
       "    </tr>\n",
       "    <tr>\n",
       "      <th>1</th>\n",
       "      <td>10.34</td>\n",
       "      <td>1.16</td>\n",
       "    </tr>\n",
       "    <tr>\n",
       "      <th>2</th>\n",
       "      <td>21.01</td>\n",
       "      <td>2.45</td>\n",
       "    </tr>\n",
       "    <tr>\n",
       "      <th>3</th>\n",
       "      <td>23.68</td>\n",
       "      <td>2.32</td>\n",
       "    </tr>\n",
       "    <tr>\n",
       "      <th>4</th>\n",
       "      <td>24.59</td>\n",
       "      <td>2.53</td>\n",
       "    </tr>\n",
       "    <tr>\n",
       "      <th>...</th>\n",
       "      <td>...</td>\n",
       "      <td>...</td>\n",
       "    </tr>\n",
       "    <tr>\n",
       "      <th>239</th>\n",
       "      <td>29.03</td>\n",
       "      <td>4.14</td>\n",
       "    </tr>\n",
       "    <tr>\n",
       "      <th>240</th>\n",
       "      <td>27.18</td>\n",
       "      <td>1.40</td>\n",
       "    </tr>\n",
       "    <tr>\n",
       "      <th>241</th>\n",
       "      <td>22.67</td>\n",
       "      <td>1.40</td>\n",
       "    </tr>\n",
       "    <tr>\n",
       "      <th>242</th>\n",
       "      <td>17.82</td>\n",
       "      <td>1.22</td>\n",
       "    </tr>\n",
       "    <tr>\n",
       "      <th>243</th>\n",
       "      <td>18.78</td>\n",
       "      <td>2.10</td>\n",
       "    </tr>\n",
       "  </tbody>\n",
       "</table>\n",
       "<p>244 rows × 2 columns</p>\n",
       "</div>"
      ],
      "text/plain": [
       "     total_bill   tip\n",
       "0         16.99  0.71\n",
       "1         10.34  1.16\n",
       "2         21.01  2.45\n",
       "3         23.68  2.32\n",
       "4         24.59  2.53\n",
       "..          ...   ...\n",
       "239       29.03  4.14\n",
       "240       27.18  1.40\n",
       "241       22.67  1.40\n",
       "242       17.82  1.22\n",
       "243       18.78  2.10\n",
       "\n",
       "[244 rows x 2 columns]"
      ]
     },
     "execution_count": 6,
     "metadata": {},
     "output_type": "execute_result"
    }
   ],
   "source": [
    "tips[[\"total_bill\", \"tip\"]]"
   ]
  },
  {
   "cell_type": "code",
   "execution_count": 7,
   "id": "de8de9d5-f606-4c5e-8161-ed0bab5983d2",
   "metadata": {},
   "outputs": [
    {
     "data": {
      "text/html": [
       "<div>\n",
       "<style scoped>\n",
       "    .dataframe tbody tr th:only-of-type {\n",
       "        vertical-align: middle;\n",
       "    }\n",
       "\n",
       "    .dataframe tbody tr th {\n",
       "        vertical-align: top;\n",
       "    }\n",
       "\n",
       "    .dataframe thead th {\n",
       "        text-align: right;\n",
       "    }\n",
       "</style>\n",
       "<table border=\"1\" class=\"dataframe\">\n",
       "  <thead>\n",
       "    <tr style=\"text-align: right;\">\n",
       "      <th></th>\n",
       "      <th>total_bill</th>\n",
       "      <th>tip</th>\n",
       "      <th>day</th>\n",
       "    </tr>\n",
       "  </thead>\n",
       "  <tbody>\n",
       "    <tr>\n",
       "      <th>0</th>\n",
       "      <td>16.99</td>\n",
       "      <td>0.71</td>\n",
       "      <td>Sun</td>\n",
       "    </tr>\n",
       "    <tr>\n",
       "      <th>1</th>\n",
       "      <td>10.34</td>\n",
       "      <td>1.16</td>\n",
       "      <td>Sun</td>\n",
       "    </tr>\n",
       "    <tr>\n",
       "      <th>2</th>\n",
       "      <td>21.01</td>\n",
       "      <td>2.45</td>\n",
       "      <td>Sun</td>\n",
       "    </tr>\n",
       "    <tr>\n",
       "      <th>3</th>\n",
       "      <td>23.68</td>\n",
       "      <td>2.32</td>\n",
       "      <td>Sun</td>\n",
       "    </tr>\n",
       "    <tr>\n",
       "      <th>4</th>\n",
       "      <td>24.59</td>\n",
       "      <td>2.53</td>\n",
       "      <td>Sun</td>\n",
       "    </tr>\n",
       "    <tr>\n",
       "      <th>...</th>\n",
       "      <td>...</td>\n",
       "      <td>...</td>\n",
       "      <td>...</td>\n",
       "    </tr>\n",
       "    <tr>\n",
       "      <th>239</th>\n",
       "      <td>29.03</td>\n",
       "      <td>4.14</td>\n",
       "      <td>Sat</td>\n",
       "    </tr>\n",
       "    <tr>\n",
       "      <th>240</th>\n",
       "      <td>27.18</td>\n",
       "      <td>1.40</td>\n",
       "      <td>Sat</td>\n",
       "    </tr>\n",
       "    <tr>\n",
       "      <th>241</th>\n",
       "      <td>22.67</td>\n",
       "      <td>1.40</td>\n",
       "      <td>Sat</td>\n",
       "    </tr>\n",
       "    <tr>\n",
       "      <th>242</th>\n",
       "      <td>17.82</td>\n",
       "      <td>1.22</td>\n",
       "      <td>Sat</td>\n",
       "    </tr>\n",
       "    <tr>\n",
       "      <th>243</th>\n",
       "      <td>18.78</td>\n",
       "      <td>2.10</td>\n",
       "      <td>Thur</td>\n",
       "    </tr>\n",
       "  </tbody>\n",
       "</table>\n",
       "<p>244 rows × 3 columns</p>\n",
       "</div>"
      ],
      "text/plain": [
       "     total_bill   tip   day\n",
       "0         16.99  0.71   Sun\n",
       "1         10.34  1.16   Sun\n",
       "2         21.01  2.45   Sun\n",
       "3         23.68  2.32   Sun\n",
       "4         24.59  2.53   Sun\n",
       "..          ...   ...   ...\n",
       "239       29.03  4.14   Sat\n",
       "240       27.18  1.40   Sat\n",
       "241       22.67  1.40   Sat\n",
       "242       17.82  1.22   Sat\n",
       "243       18.78  2.10  Thur\n",
       "\n",
       "[244 rows x 3 columns]"
      ]
     },
     "execution_count": 7,
     "metadata": {},
     "output_type": "execute_result"
    }
   ],
   "source": [
    "tips[[\"total_bill\", \"tip\", \"day\"]]"
   ]
  },
  {
   "cell_type": "markdown",
   "id": "34149c55-be3f-4ef4-a80f-1d2f1165acf7",
   "metadata": {},
   "source": [
    "If you want to grab a single value from the table, you can follow the row label with the column name that you want:"
   ]
  },
  {
   "cell_type": "code",
   "execution_count": 8,
   "id": "1870a9d5-cbbb-4a55-be37-e0b67dd04765",
   "metadata": {},
   "outputs": [
    {
     "data": {
      "text/plain": [
       "21.01"
      ]
     },
     "execution_count": 8,
     "metadata": {},
     "output_type": "execute_result"
    }
   ],
   "source": [
    "tips.loc[2, \"total_bill\"]"
   ]
  },
  {
   "cell_type": "code",
   "execution_count": 11,
   "id": "24fa49aa-0e8e-40d8-a995-469317d40b51",
   "metadata": {},
   "outputs": [
    {
     "data": {
      "text/plain": [
       "0      2\n",
       "1      3\n",
       "2      3\n",
       "3      2\n",
       "4      4\n",
       "      ..\n",
       "239    3\n",
       "240    2\n",
       "241    2\n",
       "242    2\n",
       "243    2\n",
       "Name: size, Length: 244, dtype: int64"
      ]
     },
     "execution_count": 11,
     "metadata": {},
     "output_type": "execute_result"
    }
   ],
   "source": [
    "tips[\"size\"]"
   ]
  },
  {
   "cell_type": "code",
   "execution_count": 12,
   "id": "c0a92e0d-2f63-4759-9f3c-7fe2b4b173b5",
   "metadata": {},
   "outputs": [
    {
     "data": {
      "text/plain": [
       "4827.77"
      ]
     },
     "execution_count": 12,
     "metadata": {},
     "output_type": "execute_result"
    }
   ],
   "source": [
    "tips[\"total_bill\"].sum()"
   ]
  },
  {
   "cell_type": "code",
   "execution_count": 13,
   "id": "8a02da76-182a-4183-807c-5321d90a6425",
   "metadata": {},
   "outputs": [
    {
     "data": {
      "text/plain": [
       "19.785942622950824"
      ]
     },
     "execution_count": 13,
     "metadata": {},
     "output_type": "execute_result"
    }
   ],
   "source": [
    "tips[\"total_bill\"].mean()"
   ]
  },
  {
   "cell_type": "code",
   "execution_count": 14,
   "id": "a6375e2b-3c88-465a-a3cc-0bdeb6da2714",
   "metadata": {},
   "outputs": [
    {
     "data": {
      "text/plain": [
       "7.0"
      ]
     },
     "execution_count": 14,
     "metadata": {},
     "output_type": "execute_result"
    }
   ],
   "source": [
    "tips[\"tip\"].max()"
   ]
  },
  {
   "cell_type": "code",
   "execution_count": 16,
   "id": "9ec2c4f3-06cc-4e1d-ac61-94e8666bd75b",
   "metadata": {},
   "outputs": [
    {
     "data": {
      "text/plain": [
       "170"
      ]
     },
     "execution_count": 16,
     "metadata": {},
     "output_type": "execute_result"
    }
   ],
   "source": [
    "tips[\"total_bill\"].idxmax()"
   ]
  },
  {
   "cell_type": "markdown",
   "id": "7c6a95a9-4973-43d1-b15b-56beea449343",
   "metadata": {},
   "source": [
    "use this information with the .loc attribute to get the rest of the information for that row"
   ]
  },
  {
   "cell_type": "code",
   "execution_count": 19,
   "id": "2191b5c4-f5d2-4c3c-b156-38f100f115d4",
   "metadata": {},
   "outputs": [
    {
     "data": {
      "text/plain": [
       "total_bill     50.81\n",
       "tip              7.0\n",
       "day              Sat\n",
       "time          Dinner\n",
       "size               3\n",
       "Name: 170, dtype: object"
      ]
     },
     "execution_count": 19,
     "metadata": {},
     "output_type": "execute_result"
    }
   ],
   "source": [
    "tips.loc[170]"
   ]
  },
  {
   "cell_type": "markdown",
   "id": "7e074ea6-618d-43e2-9dc8-ef794799036a",
   "metadata": {},
   "source": [
    "Find the value of the tip that was paid for the smallest total bill."
   ]
  },
  {
   "cell_type": "code",
   "execution_count": 20,
   "id": "599664c9-c63d-49df-8dce-26d9fa9e9708",
   "metadata": {},
   "outputs": [
    {
     "data": {
      "text/plain": [
       "67"
      ]
     },
     "execution_count": 20,
     "metadata": {},
     "output_type": "execute_result"
    }
   ],
   "source": [
    "tips[\"total_bill\"].idxmin()"
   ]
  },
  {
   "cell_type": "code",
   "execution_count": 22,
   "id": "420667aa-d3d3-45bd-b92d-f9b813e274f2",
   "metadata": {},
   "outputs": [
    {
     "data": {
      "text/plain": [
       "total_bill      3.07\n",
       "tip              0.7\n",
       "day              Sat\n",
       "time          Dinner\n",
       "size               1\n",
       "Name: 67, dtype: object"
      ]
     },
     "execution_count": 22,
     "metadata": {},
     "output_type": "execute_result"
    }
   ],
   "source": [
    "tips.loc[67]"
   ]
  },
  {
   "cell_type": "code",
   "execution_count": 23,
   "id": "415ba7f6-228d-4be8-bfb3-9af7dc6a502b",
   "metadata": {},
   "outputs": [
    {
     "data": {
      "text/plain": [
       "0      1699.0\n",
       "1      1034.0\n",
       "2      2101.0\n",
       "3      2368.0\n",
       "4      2459.0\n",
       "        ...  \n",
       "239    2903.0\n",
       "240    2718.0\n",
       "241    2267.0\n",
       "242    1782.0\n",
       "243    1878.0\n",
       "Name: total_bill, Length: 244, dtype: float64"
      ]
     },
     "execution_count": 23,
     "metadata": {},
     "output_type": "execute_result"
    }
   ],
   "source": [
    "tips[\"total_bill\"] * 100"
   ]
  },
  {
   "cell_type": "code",
   "execution_count": 24,
   "id": "16b43ec9-2dd1-455b-9268-ba97fa1c5f20",
   "metadata": {},
   "outputs": [
    {
     "data": {
      "text/plain": [
       "0      0.041789\n",
       "1      0.112186\n",
       "2      0.116611\n",
       "3      0.097973\n",
       "4      0.102887\n",
       "         ...   \n",
       "239    0.142611\n",
       "240    0.051508\n",
       "241    0.061756\n",
       "242    0.068462\n",
       "243    0.111821\n",
       "Length: 244, dtype: float64"
      ]
     },
     "execution_count": 24,
     "metadata": {},
     "output_type": "execute_result"
    }
   ],
   "source": [
    "tips[\"tip\"] / tips[\"total_bill\"]"
   ]
  },
  {
   "cell_type": "code",
   "execution_count": 25,
   "id": "de794b11-f47f-47b5-a0f8-48159500de74",
   "metadata": {},
   "outputs": [
    {
     "data": {
      "text/plain": [
       "0       4.178929\n",
       "1      11.218569\n",
       "2      11.661114\n",
       "3       9.797297\n",
       "4      10.288735\n",
       "         ...    \n",
       "239    14.261109\n",
       "240     5.150846\n",
       "241     6.175562\n",
       "242     6.846240\n",
       "243    11.182109\n",
       "Length: 244, dtype: float64"
      ]
     },
     "execution_count": 25,
     "metadata": {},
     "output_type": "execute_result"
    }
   ],
   "source": [
    "(tips[\"tip\"] / tips[\"total_bill\"])*100"
   ]
  },
  {
   "cell_type": "code",
   "execution_count": 26,
   "id": "c8ac3e6b-7e0a-4507-bec1-129a46b22d85",
   "metadata": {},
   "outputs": [
    {
     "data": {
      "text/plain": [
       "0       4.178929\n",
       "1      11.218569\n",
       "2      11.661114\n",
       "3       9.797297\n",
       "4      10.288735\n",
       "         ...    \n",
       "239    14.261109\n",
       "240     5.150846\n",
       "241     6.175562\n",
       "242     6.846240\n",
       "243    11.182109\n",
       "Length: 244, dtype: float64"
      ]
     },
     "execution_count": 26,
     "metadata": {},
     "output_type": "execute_result"
    }
   ],
   "source": [
    "tip_fraction = tips[\"tip\"] / tips[\"total_bill\"]\n",
    "tip_percent = tip_fraction*100\n",
    "tip_percent"
   ]
  },
  {
   "cell_type": "code",
   "execution_count": 28,
   "id": "920586c9-082b-4cf3-8b7c-b70fd6966b3b",
   "metadata": {},
   "outputs": [
    {
     "data": {
      "text/plain": [
       "0       8.495000\n",
       "1       3.446667\n",
       "2       7.003333\n",
       "3      11.840000\n",
       "4       6.147500\n",
       "         ...    \n",
       "239     9.676667\n",
       "240    13.590000\n",
       "241    11.335000\n",
       "242     8.910000\n",
       "243     9.390000\n",
       "Length: 244, dtype: float64"
      ]
     },
     "execution_count": 28,
     "metadata": {},
     "output_type": "execute_result"
    }
   ],
   "source": [
    "bill_per_person = tips[\"total_bill\"] / tips[\"size\"]\n",
    "\n",
    "bill_per_person"
   ]
  },
  {
   "cell_type": "code",
   "execution_count": 29,
   "id": "2c369466-25e0-4b3e-a45b-3970318ec22f",
   "metadata": {},
   "outputs": [
    {
     "data": {
      "text/plain": [
       "7.88822950819673"
      ]
     },
     "execution_count": 29,
     "metadata": {},
     "output_type": "execute_result"
    }
   ],
   "source": [
    "bill_per_person.mean()"
   ]
  },
  {
   "cell_type": "code",
   "execution_count": 30,
   "id": "e4cf6e93-ce96-41a6-9eea-bd91da94d67d",
   "metadata": {},
   "outputs": [
    {
     "data": {
      "text/plain": [
       "2.9143496626220995"
      ]
     },
     "execution_count": 30,
     "metadata": {},
     "output_type": "execute_result"
    }
   ],
   "source": [
    "bill_per_person.std()"
   ]
  },
  {
   "cell_type": "code",
   "execution_count": 31,
   "id": "51ec5f31-0f40-4ef8-ab66-39101a515ad3",
   "metadata": {},
   "outputs": [
    {
     "data": {
      "text/html": [
       "<div>\n",
       "<style scoped>\n",
       "    .dataframe tbody tr th:only-of-type {\n",
       "        vertical-align: middle;\n",
       "    }\n",
       "\n",
       "    .dataframe tbody tr th {\n",
       "        vertical-align: top;\n",
       "    }\n",
       "\n",
       "    .dataframe thead th {\n",
       "        text-align: right;\n",
       "    }\n",
       "</style>\n",
       "<table border=\"1\" class=\"dataframe\">\n",
       "  <thead>\n",
       "    <tr style=\"text-align: right;\">\n",
       "      <th></th>\n",
       "      <th>total_bill</th>\n",
       "      <th>tip</th>\n",
       "      <th>day</th>\n",
       "      <th>time</th>\n",
       "      <th>size</th>\n",
       "      <th>percent_tip</th>\n",
       "    </tr>\n",
       "  </thead>\n",
       "  <tbody>\n",
       "    <tr>\n",
       "      <th>0</th>\n",
       "      <td>16.99</td>\n",
       "      <td>0.71</td>\n",
       "      <td>Sun</td>\n",
       "      <td>Dinner</td>\n",
       "      <td>2</td>\n",
       "      <td>4.178929</td>\n",
       "    </tr>\n",
       "    <tr>\n",
       "      <th>1</th>\n",
       "      <td>10.34</td>\n",
       "      <td>1.16</td>\n",
       "      <td>Sun</td>\n",
       "      <td>Dinner</td>\n",
       "      <td>3</td>\n",
       "      <td>11.218569</td>\n",
       "    </tr>\n",
       "    <tr>\n",
       "      <th>2</th>\n",
       "      <td>21.01</td>\n",
       "      <td>2.45</td>\n",
       "      <td>Sun</td>\n",
       "      <td>Dinner</td>\n",
       "      <td>3</td>\n",
       "      <td>11.661114</td>\n",
       "    </tr>\n",
       "    <tr>\n",
       "      <th>3</th>\n",
       "      <td>23.68</td>\n",
       "      <td>2.32</td>\n",
       "      <td>Sun</td>\n",
       "      <td>Dinner</td>\n",
       "      <td>2</td>\n",
       "      <td>9.797297</td>\n",
       "    </tr>\n",
       "    <tr>\n",
       "      <th>4</th>\n",
       "      <td>24.59</td>\n",
       "      <td>2.53</td>\n",
       "      <td>Sun</td>\n",
       "      <td>Dinner</td>\n",
       "      <td>4</td>\n",
       "      <td>10.288735</td>\n",
       "    </tr>\n",
       "    <tr>\n",
       "      <th>...</th>\n",
       "      <td>...</td>\n",
       "      <td>...</td>\n",
       "      <td>...</td>\n",
       "      <td>...</td>\n",
       "      <td>...</td>\n",
       "      <td>...</td>\n",
       "    </tr>\n",
       "    <tr>\n",
       "      <th>239</th>\n",
       "      <td>29.03</td>\n",
       "      <td>4.14</td>\n",
       "      <td>Sat</td>\n",
       "      <td>Dinner</td>\n",
       "      <td>3</td>\n",
       "      <td>14.261109</td>\n",
       "    </tr>\n",
       "    <tr>\n",
       "      <th>240</th>\n",
       "      <td>27.18</td>\n",
       "      <td>1.40</td>\n",
       "      <td>Sat</td>\n",
       "      <td>Dinner</td>\n",
       "      <td>2</td>\n",
       "      <td>5.150846</td>\n",
       "    </tr>\n",
       "    <tr>\n",
       "      <th>241</th>\n",
       "      <td>22.67</td>\n",
       "      <td>1.40</td>\n",
       "      <td>Sat</td>\n",
       "      <td>Dinner</td>\n",
       "      <td>2</td>\n",
       "      <td>6.175562</td>\n",
       "    </tr>\n",
       "    <tr>\n",
       "      <th>242</th>\n",
       "      <td>17.82</td>\n",
       "      <td>1.22</td>\n",
       "      <td>Sat</td>\n",
       "      <td>Dinner</td>\n",
       "      <td>2</td>\n",
       "      <td>6.846240</td>\n",
       "    </tr>\n",
       "    <tr>\n",
       "      <th>243</th>\n",
       "      <td>18.78</td>\n",
       "      <td>2.10</td>\n",
       "      <td>Thur</td>\n",
       "      <td>Dinner</td>\n",
       "      <td>2</td>\n",
       "      <td>11.182109</td>\n",
       "    </tr>\n",
       "  </tbody>\n",
       "</table>\n",
       "<p>244 rows × 6 columns</p>\n",
       "</div>"
      ],
      "text/plain": [
       "     total_bill   tip   day    time  size  percent_tip\n",
       "0         16.99  0.71   Sun  Dinner     2     4.178929\n",
       "1         10.34  1.16   Sun  Dinner     3    11.218569\n",
       "2         21.01  2.45   Sun  Dinner     3    11.661114\n",
       "3         23.68  2.32   Sun  Dinner     2     9.797297\n",
       "4         24.59  2.53   Sun  Dinner     4    10.288735\n",
       "..          ...   ...   ...     ...   ...          ...\n",
       "239       29.03  4.14   Sat  Dinner     3    14.261109\n",
       "240       27.18  1.40   Sat  Dinner     2     5.150846\n",
       "241       22.67  1.40   Sat  Dinner     2     6.175562\n",
       "242       17.82  1.22   Sat  Dinner     2     6.846240\n",
       "243       18.78  2.10  Thur  Dinner     2    11.182109\n",
       "\n",
       "[244 rows x 6 columns]"
      ]
     },
     "execution_count": 31,
     "metadata": {},
     "output_type": "execute_result"
    }
   ],
   "source": [
    "tips[\"percent_tip\"] = (tips[\"tip\"] / tips[\"total_bill\"])*100\n",
    "tips"
   ]
  },
  {
   "cell_type": "code",
   "execution_count": 32,
   "id": "e8e0078d-de3d-4f51-8cc1-1ec76f243ab4",
   "metadata": {},
   "outputs": [
    {
     "data": {
      "text/html": [
       "<div>\n",
       "<style scoped>\n",
       "    .dataframe tbody tr th:only-of-type {\n",
       "        vertical-align: middle;\n",
       "    }\n",
       "\n",
       "    .dataframe tbody tr th {\n",
       "        vertical-align: top;\n",
       "    }\n",
       "\n",
       "    .dataframe thead th {\n",
       "        text-align: right;\n",
       "    }\n",
       "</style>\n",
       "<table border=\"1\" class=\"dataframe\">\n",
       "  <thead>\n",
       "    <tr style=\"text-align: right;\">\n",
       "      <th></th>\n",
       "      <th>total_bill</th>\n",
       "      <th>tip</th>\n",
       "      <th>day</th>\n",
       "      <th>time</th>\n",
       "      <th>size</th>\n",
       "      <th>percent_tip</th>\n",
       "      <th>bill per person</th>\n",
       "    </tr>\n",
       "  </thead>\n",
       "  <tbody>\n",
       "    <tr>\n",
       "      <th>0</th>\n",
       "      <td>16.99</td>\n",
       "      <td>0.71</td>\n",
       "      <td>Sun</td>\n",
       "      <td>Dinner</td>\n",
       "      <td>2</td>\n",
       "      <td>4.178929</td>\n",
       "      <td>8.495000</td>\n",
       "    </tr>\n",
       "    <tr>\n",
       "      <th>1</th>\n",
       "      <td>10.34</td>\n",
       "      <td>1.16</td>\n",
       "      <td>Sun</td>\n",
       "      <td>Dinner</td>\n",
       "      <td>3</td>\n",
       "      <td>11.218569</td>\n",
       "      <td>3.446667</td>\n",
       "    </tr>\n",
       "    <tr>\n",
       "      <th>2</th>\n",
       "      <td>21.01</td>\n",
       "      <td>2.45</td>\n",
       "      <td>Sun</td>\n",
       "      <td>Dinner</td>\n",
       "      <td>3</td>\n",
       "      <td>11.661114</td>\n",
       "      <td>7.003333</td>\n",
       "    </tr>\n",
       "    <tr>\n",
       "      <th>3</th>\n",
       "      <td>23.68</td>\n",
       "      <td>2.32</td>\n",
       "      <td>Sun</td>\n",
       "      <td>Dinner</td>\n",
       "      <td>2</td>\n",
       "      <td>9.797297</td>\n",
       "      <td>11.840000</td>\n",
       "    </tr>\n",
       "    <tr>\n",
       "      <th>4</th>\n",
       "      <td>24.59</td>\n",
       "      <td>2.53</td>\n",
       "      <td>Sun</td>\n",
       "      <td>Dinner</td>\n",
       "      <td>4</td>\n",
       "      <td>10.288735</td>\n",
       "      <td>6.147500</td>\n",
       "    </tr>\n",
       "    <tr>\n",
       "      <th>...</th>\n",
       "      <td>...</td>\n",
       "      <td>...</td>\n",
       "      <td>...</td>\n",
       "      <td>...</td>\n",
       "      <td>...</td>\n",
       "      <td>...</td>\n",
       "      <td>...</td>\n",
       "    </tr>\n",
       "    <tr>\n",
       "      <th>239</th>\n",
       "      <td>29.03</td>\n",
       "      <td>4.14</td>\n",
       "      <td>Sat</td>\n",
       "      <td>Dinner</td>\n",
       "      <td>3</td>\n",
       "      <td>14.261109</td>\n",
       "      <td>9.676667</td>\n",
       "    </tr>\n",
       "    <tr>\n",
       "      <th>240</th>\n",
       "      <td>27.18</td>\n",
       "      <td>1.40</td>\n",
       "      <td>Sat</td>\n",
       "      <td>Dinner</td>\n",
       "      <td>2</td>\n",
       "      <td>5.150846</td>\n",
       "      <td>13.590000</td>\n",
       "    </tr>\n",
       "    <tr>\n",
       "      <th>241</th>\n",
       "      <td>22.67</td>\n",
       "      <td>1.40</td>\n",
       "      <td>Sat</td>\n",
       "      <td>Dinner</td>\n",
       "      <td>2</td>\n",
       "      <td>6.175562</td>\n",
       "      <td>11.335000</td>\n",
       "    </tr>\n",
       "    <tr>\n",
       "      <th>242</th>\n",
       "      <td>17.82</td>\n",
       "      <td>1.22</td>\n",
       "      <td>Sat</td>\n",
       "      <td>Dinner</td>\n",
       "      <td>2</td>\n",
       "      <td>6.846240</td>\n",
       "      <td>8.910000</td>\n",
       "    </tr>\n",
       "    <tr>\n",
       "      <th>243</th>\n",
       "      <td>18.78</td>\n",
       "      <td>2.10</td>\n",
       "      <td>Thur</td>\n",
       "      <td>Dinner</td>\n",
       "      <td>2</td>\n",
       "      <td>11.182109</td>\n",
       "      <td>9.390000</td>\n",
       "    </tr>\n",
       "  </tbody>\n",
       "</table>\n",
       "<p>244 rows × 7 columns</p>\n",
       "</div>"
      ],
      "text/plain": [
       "     total_bill   tip   day    time  size  percent_tip  bill per person\n",
       "0         16.99  0.71   Sun  Dinner     2     4.178929         8.495000\n",
       "1         10.34  1.16   Sun  Dinner     3    11.218569         3.446667\n",
       "2         21.01  2.45   Sun  Dinner     3    11.661114         7.003333\n",
       "3         23.68  2.32   Sun  Dinner     2     9.797297        11.840000\n",
       "4         24.59  2.53   Sun  Dinner     4    10.288735         6.147500\n",
       "..          ...   ...   ...     ...   ...          ...              ...\n",
       "239       29.03  4.14   Sat  Dinner     3    14.261109         9.676667\n",
       "240       27.18  1.40   Sat  Dinner     2     5.150846        13.590000\n",
       "241       22.67  1.40   Sat  Dinner     2     6.175562        11.335000\n",
       "242       17.82  1.22   Sat  Dinner     2     6.846240         8.910000\n",
       "243       18.78  2.10  Thur  Dinner     2    11.182109         9.390000\n",
       "\n",
       "[244 rows x 7 columns]"
      ]
     },
     "execution_count": 32,
     "metadata": {},
     "output_type": "execute_result"
    }
   ],
   "source": [
    "tips[\"bill per person\"] = tips[\"total_bill\"] / tips[\"size\"]\n",
    "tips"
   ]
  },
  {
   "cell_type": "code",
   "execution_count": null,
   "id": "4d8a0111-c9ad-45e4-8f5a-743733e779e7",
   "metadata": {},
   "outputs": [],
   "source": []
  }
 ],
 "metadata": {
  "kernelspec": {
   "display_name": "datasci-env-py39",
   "language": "python",
   "name": "datasci-env-py39"
  },
  "language_info": {
   "codemirror_mode": {
    "name": "ipython",
    "version": 3
   },
   "file_extension": ".py",
   "mimetype": "text/x-python",
   "name": "python",
   "nbconvert_exporter": "python",
   "pygments_lexer": "ipython3",
   "version": "3.9.7"
  }
 },
 "nbformat": 4,
 "nbformat_minor": 5
}
