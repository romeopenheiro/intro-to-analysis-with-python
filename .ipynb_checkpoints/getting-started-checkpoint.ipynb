{
 "cells": [
  {
   "cell_type": "code",
   "execution_count": 3,
   "id": "60a8d129-15bb-4e16-93ff-f5ceac1fb16b",
   "metadata": {},
   "outputs": [
    {
     "name": "stdout",
     "output_type": "stream",
     "text": [
      "Output appears below when the cell is run\n",
      "To run a cell, press Ctrl-Enter or Shift-Enter with the cursor inside\n",
      "or use the run button (▶) in the toolbar at the top\n"
     ]
    }
   ],
   "source": [
    "# Python code can be written in 'Code' cells\n",
    "print(\"Output appears below when the cell is run\")\n",
    "print(\"To run a cell, press Ctrl-Enter or Shift-Enter with the cursor inside\")\n",
    "print(\"or use the run button (▶) in the toolbar at the top\")"
   ]
  },
  {
   "cell_type": "code",
   "execution_count": 5,
   "id": "f37bb178-f6e5-4aa2-9c84-9f196902dc5a",
   "metadata": {},
   "outputs": [
    {
     "data": {
      "text/html": [
       "<div>\n",
       "<style scoped>\n",
       "    .dataframe tbody tr th:only-of-type {\n",
       "        vertical-align: middle;\n",
       "    }\n",
       "\n",
       "    .dataframe tbody tr th {\n",
       "        vertical-align: top;\n",
       "    }\n",
       "\n",
       "    .dataframe thead th {\n",
       "        text-align: right;\n",
       "    }\n",
       "</style>\n",
       "<table border=\"1\" class=\"dataframe\">\n",
       "  <thead>\n",
       "    <tr style=\"text-align: right;\">\n",
       "      <th></th>\n",
       "      <th>0</th>\n",
       "      <th>1</th>\n",
       "      <th>2</th>\n",
       "    </tr>\n",
       "  </thead>\n",
       "  <tbody>\n",
       "    <tr>\n",
       "      <th>0</th>\n",
       "      <td>1</td>\n",
       "      <td>2</td>\n",
       "      <td>3</td>\n",
       "    </tr>\n",
       "    <tr>\n",
       "      <th>1</th>\n",
       "      <td>5</td>\n",
       "      <td>6</td>\n",
       "      <td>6</td>\n",
       "    </tr>\n",
       "  </tbody>\n",
       "</table>\n",
       "</div>"
      ],
      "text/plain": [
       "   0  1  2\n",
       "0  1  2  3\n",
       "1  5  6  6"
      ]
     },
     "execution_count": 5,
     "metadata": {},
     "output_type": "execute_result"
    }
   ],
   "source": [
    "from pandas import DataFrame\n",
    "DataFrame([[1,2,3],[5,6,6]])"
   ]
  },
  {
   "cell_type": "code",
   "execution_count": 6,
   "id": "61793991-fa2a-4e0b-bfc8-e638e43836d4",
   "metadata": {},
   "outputs": [
    {
     "data": {
      "text/plain": [
       "[<matplotlib.lines.Line2D at 0x7fe9f688ca00>]"
      ]
     },
     "execution_count": 6,
     "metadata": {},
     "output_type": "execute_result"
    },
    {
     "data": {
      "image/png": "[encoded data removed]",
      "text/plain": [
       "<Figure size 432x288 with 1 Axes>"
      ]
     },
     "metadata": {
      "needs_background": "light"
     },
     "output_type": "display_data"
    }
   ],
   "source": [
    "import matplotlib.pyplot as plt\n",
    "import numpy as np\n",
    "\n",
    "t = np.arange(0.0, 2.0, 0.01)\n",
    "s = np.sin(2*np.pi*t)\n",
    "fig, ax = plt.subplots()\n",
    "ax.plot(t, s)"
   ]
  },
  {
   "cell_type": "markdown",
   "id": "61b92a9a-d156-41a0-848f-242b679b07c9",
   "metadata": {},
   "source": [
    "I changed this cell from code to markdown. Neat!\n",
    "This is calld literate programming."
   ]
  },
  {
   "cell_type": "markdown",
   "id": "117eeec4-f08b-452d-862a-ecbc12c40fe9",
   "metadata": {},
   "source": [
    "Enter the price of the fruits\n"
   ]
  },
  {
   "cell_type": "code",
   "execution_count": 9,
   "id": "abacfcf9-fa77-4d0d-8ef2-dae53351b2c3",
   "metadata": {},
   "outputs": [],
   "source": [
    "prices = {\n",
    "    \"apple\": 0.40,\n",
    "    \"banana\": 0.50,\n",
    "}"
   ]
  },
  {
   "cell_type": "markdown",
   "id": "b980af85-36e2-4b2d-b856-35dc356801e8",
   "metadata": {},
   "source": [
    "Enter the number of baskets"
   ]
  },
  {
   "cell_type": "code",
   "execution_count": 8,
   "id": "1d710e80-6953-489f-8e70-df2c4de2ada1",
   "metadata": {},
   "outputs": [],
   "source": [
    "my_basket = {\n",
    "    \"apple\": 1,\n",
    "    \"banana\": 6,\n",
    "}"
   ]
  },
  {
   "cell_type": "markdown",
   "id": "b212da1d-876c-4832-8b1a-8ce12f3ba100",
   "metadata": {},
   "source": [
    "What do I owe the grocer:"
   ]
  },
  {
   "cell_type": "code",
   "execution_count": 10,
   "id": "6b9a2f0a-569a-4e96-9d78-9d38375c910e",
   "metadata": {},
   "outputs": [
    {
     "name": "stdout",
     "output_type": "stream",
     "text": [
      "I owe the grocer £3.40\n"
     ]
    }
   ],
   "source": [
    "total_grocery_bill = 0\n",
    "for fruit, count in my_basket.items():\n",
    "    total_grocery_bill += prices[fruit] * count\n",
    "print(f\"I owe the grocer £{total_grocery_bill:.2f}\")"
   ]
  },
  {
   "cell_type": "code",
   "execution_count": null,
   "id": "13236344-fe53-4d56-a4f0-b074aa3a11bf",
   "metadata": {},
   "outputs": [],
   "source": []
  }
 ],
 "metadata": {
  "kernelspec": {
   "display_name": "datasci-env-py39",
   "language": "python",
   "name": "datasci-env-py39"
  },
  "language_info": {
   "codemirror_mode": {
    "name": "ipython",
    "version": 3
   },
   "file_extension": ".py",
   "mimetype": "text/x-python",
   "name": "python",
   "nbconvert_exporter": "python",
   "pygments_lexer": "ipython3",
   "version": "3.9.7"
  }
 },
 "nbformat": 4,
 "nbformat_minor": 5
}
